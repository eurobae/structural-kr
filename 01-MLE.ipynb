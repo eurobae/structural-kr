{
 "cells": [
  {
   "cell_type": "markdown",
   "metadata": {},
   "source": [
    "# 01-Maximum Likelihood Estimation (MLE)"
   ]
  },
  {
   "cell_type": "markdown",
   "metadata": {},
   "source": [
    "본 포스트는 Rice University의 Richard W. Evans가 2018년 7월 QuantEcon에 게시한 [Maximum Likelihood Estimation](https://notes.quantecon.org/submission/5b3b102eb9eab00015b89f8e){: target=\"_blank\"}을 기본적으로 번역하되, 필요에 따라 일부 내용을 수정하거나 추가적인 내용들을 덧붙이면서 만들어졌습니다."
   ]
  },
  {
   "cell_type": "markdown",
   "metadata": {},
   "source": [
    "<br>"
   ]
  },
  {
   "cell_type": "markdown",
   "metadata": {},
   "source": [
    "## 1. Maximum Likelihood Estimation"
   ]
  },
  {
   "cell_type": "markdown",
   "metadata": {},
   "source": [
    "MLE 추정법은 우리가 관측하는 데이터가 어떤 미지의 확률 분포를 따를 것이라는 강한 가정에 기초합니다. MLE의 목표는 데이터를 이용해서 바로 그 확률 분포가 어떻게 생겼을지 추론하는 데 있고, 이를테면 분포의 평균이나 분산과 같은 파라미터 $\\theta$를 pin down합니다.\n",
    "\n",
    "구체적인 추정 방식은 이름에서 알 수 있듯이 likelihood function $L(\\theta)$를 극대화하는 $\\hat \\theta$를 찾도록 전개됩니다. Likelihood는 데이터가 관찰되었을 때 미지의 분포의 파라미터가 $\\theta$일 가능성을 뜻하며, 달리 말하면 관측된 데이터가 특정 $\\theta$에서 나왔을 확률입니다.\n",
    "\n",
    "예를 들어 연속형 랜덤 변수 $X$가 $\\theta$에 의존하는 $f$라는 PDF(probability density function)를 가진다면, $X=x$라는 하나의 값이 관찰될 때 다음과 같이 likelihood function을 정의할 수 있습니다. (이산형 랜덤 변수라면 probability mass function이겠고요.)\n",
    "\n",
    "\\begin{equation}\n",
    "    L(\\theta | x) = f(x | \\theta)\n",
    "\\end{equation}\n",
    "\n",
    "그리고 i.i.d인 관측치가 $(x_1, ..., x_N)$과 같이 $N$개라면 $L(\\theta)$는 PDF의 곱으로 표현됩니다.\n",
    "\n",
    "\\begin{equation}\n",
    "    L(\\theta | x_1, ..., x_N) = \\prod_{i=1}^{N} {f(x_i | \\theta)}\n",
    "\\end{equation}\n",
    "\n",
    "Log가 strictly increasing function이기 때문에 $L(\\theta)$를 극대화하는 것과 $L(\\theta)$를 log 변환한 log-likelihood function $l(\\theta)$를 극대화하는 것은 동치입니다. $l(\\theta)$는 아래와 같이 곱이 아닌 합으로 표현되겠습니다. ([Log-likelihood가 유리한 이유](https://stats.stackexchange.com/questions/70972/why-we-always-put-log-before-the-joint-pdf-when-we-use-mlemaximum-likelihood/70975#70975))\n",
    "\n",
    "\\begin{equation}\n",
    "    l(\\theta | x_1, ..., x_N) = \\sum_{i=1}^{N} {\\ln{f(x_i | \\theta)}}\n",
    "\\end{equation}"
   ]
  },
  {
   "cell_type": "markdown",
   "metadata": {},
   "source": [
    "$L(\\theta)$나 $l(\\theta)$를 극대화하는 $\\theta$를 찾을 때 깔끔한 analytical solution이 있으면 좋겠지만, 없는 경우에는 Newton-Raphson algorithm과 같은 numerical method가 필요합니다.\n",
    "\n",
    "우선 Normal 분포를 시작으로 analytical solution이 있는 경우를 살펴보도록 하겠습니다. Normal 분포에 대해 우리가 추정할 $\\theta$는 \n",
    "분포의 평균인 $\\mu$와 분산 $\\sigma^2$이고요, PDF는 다음과 같습니다.\n",
    "\n",
    "$$\\begin{equation}\n",
    "    f(x_i | \\mu, \\sigma^2) = \\frac{1}{\\sigma\\sqrt{2\\pi}} \\exp{\\{ -\\frac{(x_i-\\mu)^2}{2\\sigma^2} \\}}\n",
    "\\end{equation}$$\n",
    "\n",
    "앞서 정의한 대로 $N$개의 관측치에 대해 $l(\\mu,\\sigma^2)$은 다음과 같이 쓸 수 있습니다.\n",
    "\n",
    "$$\\begin{equation}\n",
    "\\begin{split}\n",
    "    l(\\mu,\\sigma^2)\n",
    "    &= \\sum_{i=1}^{N}{ \\ln{( \\frac{1}{\\sigma\\sqrt{2\\pi}} \\exp{\\{ -\\frac{(x_i-\\mu)^2}{2\\sigma^2} \\}} )} } \\\\\n",
    "    &= -N \\ln{\\sigma} - \\frac{N}{2} \\ln{2\\pi} - \\frac{1}{2\\sigma^2} \\sum_{i=1}^{N}{(x_i-\\mu)^2}\n",
    "\\end{split}\n",
    "\\end{equation}$$\n",
    "\n",
    "이어서 $l(\\mu,\\sigma^2)$을 극대화하는 $\\hat{\\mu}$을 찾기 위해 아래와 같이 FOC를 구할 수 있습니다.\n",
    "\n",
    "\\begin{equation}\n",
    "    \\frac{\\partial}{\\partial\\mu} l(\\mu,\\sigma^2) = \\frac{1}{\\sigma^2} \\sum_{i=1}^{N}{(x_i-\\mu)} = 0\n",
    "\\end{equation}\n",
    "\n",
    "\\begin{equation}\n",
    "    \\hat{\\mu} = \\frac{1}{N} \\sum_{i=1}^{N}{x_i}\n",
    "\\end{equation}\n",
    "\n",
    "같은 방식으로 $\\hat{\\sigma}^2$도 구할 수 있습니다.\n",
    "\n",
    "\\begin{equation}\n",
    "    \\frac{\\partial}{\\partial\\sigma} l(\\mu,\\sigma^2) = - \\frac{N}{\\sigma} + \\frac{1}{\\sigma^3} \\sum_{i=1}^{N}{(x_i-\\mu)^2}\n",
    "\\end{equation}\n",
    "\n",
    "\\begin{equation}\n",
    "    \\hat{\\sigma}^2 = \\frac{1}{N} \\sum_{i=1}^{N}{(x_i-\\hat{\\mu})^2}\n",
    "\\end{equation}\n",
    "\n",
    "도출된 $\\hat\\mu$와 $\\hat\\sigma^2$이 likelihood function을 극대화하는 maximum likelihood estimator, 즉 우리가 알고 싶었던 Normal 분포의 파라미터 $\\theta$를 추정하는 추정량 또는 공식이 되겠습니다."
   ]
  },
  {
   "cell_type": "markdown",
   "metadata": {},
   "source": [
    "<br>"
   ]
  },
  {
   "cell_type": "markdown",
   "metadata": {},
   "source": [
    "## 2. Comparing Data and Distributions"
   ]
  },
  {
   "cell_type": "markdown",
   "metadata": {},
   "source": [
    "실제 데이터를 가지고 likelihood를 계산하는 간단한 실습을 진행해 보겠습니다. 여기서 다룰 데이터는 원문 저자인 Richard의 거시경제학 과목에서 학생들이 득점한 성적입니다. 우선 실습에 필요한 라이브러리와 데이터를 불러옵니다."
   ]
  },
  {
   "cell_type": "code",
   "execution_count": 1,
   "metadata": {},
   "outputs": [
    {
     "data": {
      "text/html": [
       "<div>\n",
       "<style scoped>\n",
       "    .dataframe tbody tr th:only-of-type {\n",
       "        vertical-align: middle;\n",
       "    }\n",
       "\n",
       "    .dataframe tbody tr th {\n",
       "        vertical-align: top;\n",
       "    }\n",
       "\n",
       "    .dataframe thead th {\n",
       "        text-align: right;\n",
       "    }\n",
       "</style>\n",
       "<table border=\"1\" class=\"dataframe\">\n",
       "  <thead>\n",
       "    <tr style=\"text-align: right;\">\n",
       "      <th></th>\n",
       "      <th>points</th>\n",
       "    </tr>\n",
       "  </thead>\n",
       "  <tbody>\n",
       "    <tr>\n",
       "      <th>0</th>\n",
       "      <td>275.50</td>\n",
       "    </tr>\n",
       "    <tr>\n",
       "      <th>1</th>\n",
       "      <td>351.50</td>\n",
       "    </tr>\n",
       "    <tr>\n",
       "      <th>2</th>\n",
       "      <td>346.25</td>\n",
       "    </tr>\n",
       "    <tr>\n",
       "      <th>3</th>\n",
       "      <td>228.25</td>\n",
       "    </tr>\n",
       "    <tr>\n",
       "      <th>4</th>\n",
       "      <td>108.25</td>\n",
       "    </tr>\n",
       "    <tr>\n",
       "      <th>...</th>\n",
       "      <td>...</td>\n",
       "    </tr>\n",
       "    <tr>\n",
       "      <th>156</th>\n",
       "      <td>235.00</td>\n",
       "    </tr>\n",
       "    <tr>\n",
       "      <th>157</th>\n",
       "      <td>102.20</td>\n",
       "    </tr>\n",
       "    <tr>\n",
       "      <th>158</th>\n",
       "      <td>112.30</td>\n",
       "    </tr>\n",
       "    <tr>\n",
       "      <th>159</th>\n",
       "      <td>130.60</td>\n",
       "    </tr>\n",
       "    <tr>\n",
       "      <th>160</th>\n",
       "      <td>60.20</td>\n",
       "    </tr>\n",
       "  </tbody>\n",
       "</table>\n",
       "<p>161 rows × 1 columns</p>\n",
       "</div>"
      ],
      "text/plain": [
       "     points\n",
       "0    275.50\n",
       "1    351.50\n",
       "2    346.25\n",
       "3    228.25\n",
       "4    108.25\n",
       "..      ...\n",
       "156  235.00\n",
       "157  102.20\n",
       "158  112.30\n",
       "159  130.60\n",
       "160   60.20\n",
       "\n",
       "[161 rows x 1 columns]"
      ]
     },
     "execution_count": 1,
     "metadata": {},
     "output_type": "execute_result"
    }
   ],
   "source": [
    "import pandas as pd\n",
    "import numpy as np\n",
    "import matplotlib.pyplot as plt\n",
    "\n",
    "import scipy.stats as sts\n",
    "import scipy.optimize as opt\n",
    "\n",
    "data = pd.read_csv(\"https://raw.githubusercontent.com/rickecon/Notebooks/master/MLE/data/Econ381totpts.txt\",\n",
    "                   header=None, names=[\"points\"])\n",
    "data"
   ]
  },
  {
   "cell_type": "markdown",
   "metadata": {},
   "source": [
    "히스토그램과 함께 임의의 Normal 분포 2개를 생성해 보겠습니다."
   ]
  },
  {
   "cell_type": "code",
   "execution_count": 2,
   "metadata": {},
   "outputs": [
    {
     "data": {
      "image/png": "[encoded data removed]",
      "text/plain": [
       "<Figure size 432x288 with 1 Axes>"
      ]
     },
     "metadata": {
      "needs_background": "light"
     },
     "output_type": "display_data"
    }
   ],
   "source": [
    "# 실제 관측된 히스토그램\n",
    "plt.hist(data, bins=30, density=True, edgecolor='k')\n",
    "\n",
    "# PDF 생성 함수\n",
    "def norm_pdf(x_vals, mu, sigma):\n",
    "    pdf_vals = 1 / (sigma * np.sqrt(2*np.pi)) * np.exp(- (x_vals-mu)**2 / (2*sigma**2))\n",
    "    return pdf_vals\n",
    "\n",
    "x_grid = np.linspace(0,500,500)\n",
    "\n",
    "# Case 1\n",
    "mu_1, sig_1 = 300, 30\n",
    "plt.plot(x_grid, norm_pdf(x_grid, mu_1, sig_1),\n",
    "         linewidth=2, label=\"#1: $\\mu$=300, $\\sigma$=30\")\n",
    "\n",
    "# Case 2\n",
    "mu_2, sig_2 = 400, 60\n",
    "plt.plot(x_grid, norm_pdf(x_grid, mu_2, sig_2),\n",
    "         linewidth=2, label=\"#2: $\\mu$=400, $\\sigma$=60\")\n",
    "\n",
    "plt.legend()\n",
    "plt.savefig(\"./assets/01-MLE/mle_01.png\", dpi=200)"
   ]
  },
  {
   "cell_type": "markdown",
   "metadata": {},
   "source": [
    "눈으로 보기에 두 번째 Normal 분포가 데이터를 더 잘 설명하는 듯 합니다.\n",
    "수치적으로 확인하기 위해 각 분포에 대해서 log-likelihood를 계산해 보겠습니다."
   ]
  },
  {
   "cell_type": "code",
   "execution_count": 3,
   "metadata": {
    "scrolled": true
   },
   "outputs": [
    {
     "name": "stdout",
     "output_type": "stream",
     "text": [
      "Log-likelihood #1: -1552.8074968768929\n",
      "Log-likelihood #2: -1057.641093120655\n"
     ]
    }
   ],
   "source": [
    "def log_lik_norm(x_vals, mu, sigma):\n",
    "    pdf_vals = norm_pdf(x_vals, mu, sigma)\n",
    "    log_lik_val = np.log(pdf_vals).sum()\n",
    "    return log_lik_val\n",
    "\n",
    "print(\"Log-likelihood #1:\", log_lik_norm(data.points, mu_1, sig_1))\n",
    "print(\"Log-likelihood #2:\", log_lik_norm(data.points, mu_2, sig_2))"
   ]
  },
  {
   "cell_type": "markdown",
   "metadata": {},
   "source": [
    "역시 $\\mu$와 $\\sigma$가 좀더 큰 두 번째 normal 분포에 대해서 log-likelihood가 더 크게 계산되었습니다."
   ]
  },
  {
   "cell_type": "markdown",
   "metadata": {},
   "source": [
    "<br>"
   ]
  },
  {
   "cell_type": "markdown",
   "metadata": {},
   "source": [
    "## 3. Solving a Maximization (or Minimization) Problem"
   ]
  },
  {
   "cell_type": "markdown",
   "metadata": {},
   "source": [
    "이제 scipy.optimize 패키지를 이용해서 solver를 통해 log-likelihood를 극대화하는 $\\hat\\mu$와 $\\hat\\sigma$를 찾아보겠습니다. 한 가지 짚고 넘어가면 likelihood는 무조건 [0,1] 사이의 값을 가지므로 위 두 경우에서 봤듯이 log-likelihood는 0일 때를 제외하고 항상 음수값을 가집니다. 따라서 likelihood 또는 log-likelihood를 maximize하는 문제는 negative log-likelihood를 minimize하는 문제와 동일합니다."
   ]
  },
  {
   "cell_type": "markdown",
   "metadata": {},
   "source": [
    "따라서 아래에서는 scipy.optimize 패키지에서도 minimze() 함수를 사용할 건데요. 첫 단계로 극소화하려는 목적함수, 즉 negative log-likelihood function을 objective라는 이름으로 생성하겠습니다. 위에서 정의했던 log_lik_norm()과 거의 동일한데, input을 받는 방식과 부호를 바꿔 음수를 반환하는 차이가 있습니다."
   ]
  },
  {
   "cell_type": "code",
   "execution_count": 4,
   "metadata": {},
   "outputs": [],
   "source": [
    "def objective(params, *args):\n",
    "    mu, sigma = params\n",
    "    x_vals = args\n",
    "    \n",
    "    log_lik_val = log_lik_norm(x_vals, mu, sigma)\n",
    "    neg_log_lik_val = -log_lik_val\n",
    "    return neg_log_lik_val"
   ]
  },
  {
   "cell_type": "markdown",
   "metadata": {},
   "source": [
    "임의의 guess 값을 시작으로 목적함수 objective를 최적화하는 극솟값을 탐색합니다."
   ]
  },
  {
   "cell_type": "code",
   "execution_count": 5,
   "metadata": {},
   "outputs": [
    {
     "data": {
      "text/plain": [
       "      fun: 950.1687934479038\n",
       " hess_inv: array([[92.73681569, 17.66858475],\n",
       "       [17.66858475, 24.95926171]])\n",
       "      jac: array([7.62939453e-06, 7.62939453e-06])\n",
       "  message: 'Optimization terminated successfully.'\n",
       "     nfev: 66\n",
       "      nit: 18\n",
       "     njev: 22\n",
       "   status: 0\n",
       "  success: True\n",
       "        x: array([341.90864948,  88.47608833])"
      ]
     },
     "execution_count": 5,
     "metadata": {},
     "output_type": "execute_result"
    }
   ],
   "source": [
    "mu_init, sigma_init = 400, 60\n",
    "params_init = (mu_init, sigma_init)\n",
    "\n",
    "mle_args = data.points\n",
    "\n",
    "mle_results = opt.minimize(objective, params_init, args=mle_args)\n",
    "mle_results"
   ]
  },
  {
   "cell_type": "markdown",
   "metadata": {},
   "source": [
    "최적화가 잘 완료되었다는 메시지와 함께 마지막 줄에 $\\hat\\mu=341.91$과 $\\hat\\sigma=88.48$이 극솟값으로 pin down되었습니다."
   ]
  },
  {
   "cell_type": "markdown",
   "metadata": {},
   "source": [
    "첫 번째 섹션에서 수식으로 표현했던 analytical solution을 상기해서 비교해보아도 잘 추정된 것을 확인할 수 있습니다."
   ]
  },
  {
   "cell_type": "code",
   "execution_count": 6,
   "metadata": {},
   "outputs": [
    {
     "data": {
      "text/plain": [
       "341.90869565217395"
      ]
     },
     "execution_count": 6,
     "metadata": {},
     "output_type": "execute_result"
    }
   ],
   "source": [
    "data.points.mean()"
   ]
  },
  {
   "cell_type": "code",
   "execution_count": 7,
   "metadata": {
    "scrolled": true
   },
   "outputs": [
    {
     "data": {
      "text/plain": [
       "88.47597014103917"
      ]
     },
     "execution_count": 7,
     "metadata": {},
     "output_type": "execute_result"
    }
   ],
   "source": [
    "np.sqrt(1/len(data) * ((data.points - data.points.mean()) ** 2).sum())"
   ]
  },
  {
   "cell_type": "markdown",
   "metadata": {},
   "source": [
    "Also see\n",
    "- https://python.quantecon.org/mle.html"
   ]
  }
 ],
 "metadata": {
  "kernelspec": {
   "display_name": "Python 3",
   "language": "python",
   "name": "python3"
  },
  "language_info": {
   "codemirror_mode": {
    "name": "ipython",
    "version": 3
   },
   "file_extension": ".py",
   "mimetype": "text/x-python",
   "name": "python",
   "nbconvert_exporter": "python",
   "pygments_lexer": "ipython3",
   "version": "3.8.5"
  }
 },
 "nbformat": 4,
 "nbformat_minor": 5
}
