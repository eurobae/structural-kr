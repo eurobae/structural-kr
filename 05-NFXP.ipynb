{
 "cells": [
  {
   "cell_type": "markdown",
   "id": "93217759",
   "metadata": {},
   "source": [
    "# Rust's Nested Fixed Point Algorithm (NFXP)"
   ]
  },
  {
   "cell_type": "markdown",
   "id": "2df753bd",
   "metadata": {},
   "source": [
    "본 포스트는 John Rust가 1987년 Econometrica에 게재한 [Optimal Replacement of GMC Bus Engines: An Empirical Model of Harold Zurcher](https://www.jstor.org/stable/1911259)에 기반하여 만들어졌습니다."
   ]
  },
  {
   "cell_type": "markdown",
   "id": "107ffff9",
   "metadata": {},
   "source": [
    "<br>"
   ]
  },
  {
   "cell_type": "markdown",
   "id": "60899ec3",
   "metadata": {},
   "source": [
    "## 1. Introduction"
   ]
  },
  {
   "cell_type": "markdown",
   "id": "44c496ad",
   "metadata": {},
   "source": [
    "Rust는 Harold Zurcher라는 한 버스 정비 담당자의 버스 엔진 교체 행태를 설명하기 위한 regenerative optimal stopping 모델을 제안했습니다. Rust의 귀무가설은 \"Zurcher가 매 순간 버스 엔진을 교체할지 말지 결정하는 데 있어 optimal stopping rule을 따른다\"인데, optimal stopping rule은 분석가들이 관찰하거나(예. 주행거리) 혹은 관찰할 수 없는 여러 state variable들의 함수일 것입니다.\n",
    "\n",
    "만약 지금 당장 엔진을 교체한다면 즉각적으로 교체 비용이 발생할 것이고, 교체하지 않는다면 언제일지 모르는 미래에 버스가 고장나서 예상치 못한 비용을 지불해야 할 수 있습니다. 따라서 Zurcher는 각 시점마다 엔진을 교체할 때와 교체하지 않을 때 발생 가능한 비용 중 최소 비용을 부담하기 위해 선택을 내릴 것이고, 이에 대한 optimal stopping rule은 stochastic dynamic programming 문제의 solution으로 표현 가능합니다."
   ]
  },
  {
   "cell_type": "markdown",
   "id": "dfb5fb9a",
   "metadata": {},
   "source": [
    "<br>"
   ]
  },
  {
   "cell_type": "markdown",
   "id": "43ea1a3f",
   "metadata": {},
   "source": [
    "## 2. Model"
   ]
  },
  {
   "cell_type": "markdown",
   "id": "bfc5ca6e",
   "metadata": {},
   "source": [
    "$$\\begin{equation}\n",
    "    u(x,d,\\theta) =\n",
    "        \\begin{cases}\n",
    "            -RC - c(0,\\theta) & \\text{if } d=1 \\\\\n",
    "            -c(x,\\theta)      & \\text{if } d=0\n",
    "        \\end{cases}\n",
    "\\end{equation}$$"
   ]
  },
  {
   "cell_type": "markdown",
   "id": "3942846d",
   "metadata": {},
   "source": [
    "$$\\begin{equation}\n",
    "    p(x_{t+1} | x_t,d_t,\\theta) =\n",
    "        \\begin{cases}\n",
    "            g(x_{t+1}-0   | \\theta) & \\text{if } d=1 \\\\\n",
    "            g(x_{t+1}-x_t | \\theta) & \\text{if } d=0\n",
    "        \\end{cases}\n",
    "\\end{equation}$$"
   ]
  },
  {
   "cell_type": "markdown",
   "id": "e0cb7204",
   "metadata": {},
   "source": [
    "Optimal value function $V_{\\theta}$는 아래 Bellman's equation의 unique solution입니다.\n",
    "\n",
    "$$\\begin{equation}\n",
    "\\begin{split}\n",
    "    V_{\\theta}(x,\\epsilon) &= \\max_{d \\in D(x)} {[u(x,d,\\theta) + \\epsilon(d) \n",
    "                                               + \\beta \\int{V_{\\theta}(x',\\epsilon') \\pi(dx',d\\epsilon' | x,\\epsilon,\\theta)}]} \\\\\n",
    "                           &= \\max_{d \\in D(x)} {[u(x,d,\\theta) + \\epsilon(d)\n",
    "                                               + \\beta EV_{\\theta}(x,\\epsilon,d)]}\n",
    "\\end{split}\n",
    "\\end{equation}$$"
   ]
  },
  {
   "cell_type": "markdown",
   "id": "2318b3c3",
   "metadata": {},
   "source": [
    "Conditional Independence Assumption (CIA)"
   ]
  },
  {
   "cell_type": "markdown",
   "id": "8a17dd47",
   "metadata": {},
   "source": [
    "$$\\begin{equation}\n",
    "    \\pi(x_{t+1},\\epsilon_{t+1} | x_t,\\epsilon_t,d_t,\\theta)\n",
    "        = p(x_{t+1} | x_t,d_t,\\theta) q(\\epsilon_t | x_t,\\theta)\n",
    "\\end{equation}$$"
   ]
  },
  {
   "cell_type": "markdown",
   "id": "43681ab0",
   "metadata": {},
   "source": [
    "Conditional choice probability $P(d|x,\\theta)$는 multinomial logit 공식을 통해 표현됩니다."
   ]
  },
  {
   "cell_type": "markdown",
   "id": "444283e5",
   "metadata": {},
   "source": [
    "$$\\begin{equation}\n",
    "    P(d | x,\\theta) = \\frac{ \\exp{\\{ u(x,d,\\theta) + \\beta EV_{\\theta}(x,d) \\}} }\n",
    "                           { \\sum_{d' \\in D(x)}{ \\exp{\\{ u(x,d',\\theta) + \\beta EV_{\\theta}(x,d') \\}} } }\n",
    "\\end{equation}$$"
   ]
  },
  {
   "cell_type": "markdown",
   "id": "29992019",
   "metadata": {},
   "source": [
    "Contraction mapping"
   ]
  },
  {
   "cell_type": "markdown",
   "id": "cde49c64",
   "metadata": {},
   "source": [
    "$$\\begin{equation}\n",
    "\\begin{split}\n",
    "    EV_{\\theta}(x,d) &= T_{\\theta}(EV_{\\theta}(x,d)) \\\\\n",
    "                     &= \\int{\\log{[ \\sum_{d' \\in D(x')}{\\exp{\\{ u(x',d',\\theta) + \\beta EV_{\\theta}(x',d') \\}}} ] p(dx'|x,d,\\theta)}}\n",
    "\\end{split}\n",
    "\\end{equation}$$"
   ]
  },
  {
   "cell_type": "markdown",
   "id": "0d734caa",
   "metadata": {},
   "source": [
    "<br>"
   ]
  },
  {
   "cell_type": "markdown",
   "id": "8bbdaf99",
   "metadata": {},
   "source": [
    "## 3. Data"
   ]
  },
  {
   "cell_type": "markdown",
   "id": "47ebfa0d",
   "metadata": {},
   "source": [
    "https://github.com/OpenSourceEconomics/rust-data"
   ]
  },
  {
   "cell_type": "markdown",
   "id": "4b42968e",
   "metadata": {},
   "source": [
    "<br>"
   ]
  }
 ],
 "metadata": {
  "kernelspec": {
   "display_name": "Python 3 (ipykernel)",
   "language": "python",
   "name": "python3"
  },
  "language_info": {
   "codemirror_mode": {
    "name": "ipython",
    "version": 3
   },
   "file_extension": ".py",
   "mimetype": "text/x-python",
   "name": "python",
   "nbconvert_exporter": "python",
   "pygments_lexer": "ipython3",
   "version": "3.9.7"
  }
 },
 "nbformat": 4,
 "nbformat_minor": 5
}
